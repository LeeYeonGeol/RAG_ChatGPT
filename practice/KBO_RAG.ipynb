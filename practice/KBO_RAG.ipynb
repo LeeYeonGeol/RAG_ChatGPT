{
  "nbformat": 4,
  "nbformat_minor": 0,
  "metadata": {
    "colab": {
      "provenance": [],
      "gpuType": "T4",
      "toc_visible": true
    },
    "kernelspec": {
      "name": "python3",
      "display_name": "Python 3"
    },
    "language_info": {
      "name": "python"
    },
    "accelerator": "GPU"
  },
  "cells": [
    {
      "cell_type": "markdown",
      "source": [
        "# Import Library"
      ],
      "metadata": {
        "id": "L8DkZR60qLAa"
      }
    },
    {
      "cell_type": "code",
      "source": [
        "!pip install langchain google-cloud-aiplatform qdrant-client cohere wikipedia -q"
      ],
      "metadata": {
        "colab": {
          "base_uri": "https://localhost:8080/"
        },
        "id": "ALZwtEVHdq7Q",
        "outputId": "a89298a1-28f0-4251-dffe-b2dc74b9e674"
      },
      "execution_count": 1,
      "outputs": [
        {
          "output_type": "stream",
          "name": "stdout",
          "text": [
            "\u001b[2K     \u001b[90m━━━━━━━━━━━━━━━━━━━━━━━━━━━━━━━━━━━━━━━━\u001b[0m \u001b[32m794.4/794.4 kB\u001b[0m \u001b[31m3.7 MB/s\u001b[0m eta \u001b[36m0:00:00\u001b[0m\n",
            "\u001b[2K     \u001b[90m━━━━━━━━━━━━━━━━━━━━━━━━━━━━━━━━━━━━━━━━\u001b[0m \u001b[32m203.7/203.7 kB\u001b[0m \u001b[31m6.4 MB/s\u001b[0m eta \u001b[36m0:00:00\u001b[0m\n",
            "\u001b[2K     \u001b[90m━━━━━━━━━━━━━━━━━━━━━━━━━━━━━━━━━━━━━━━━\u001b[0m \u001b[32m51.7/51.7 kB\u001b[0m \u001b[31m2.0 MB/s\u001b[0m eta \u001b[36m0:00:00\u001b[0m\n",
            "\u001b[?25h  Preparing metadata (setup.py) ... \u001b[?25l\u001b[?25hdone\n",
            "\u001b[2K     \u001b[90m━━━━━━━━━━━━━━━━━━━━━━━━━━━━━━━━━━━━━━━━\u001b[0m \u001b[32m1.5/1.5 MB\u001b[0m \u001b[31m14.4 MB/s\u001b[0m eta \u001b[36m0:00:00\u001b[0m\n",
            "\u001b[2K     \u001b[90m━━━━━━━━━━━━━━━━━━━━━━━━━━━━━━━━━━━━━━━━\u001b[0m \u001b[32m192.4/192.4 kB\u001b[0m \u001b[31m13.1 MB/s\u001b[0m eta \u001b[36m0:00:00\u001b[0m\n",
            "\u001b[2K     \u001b[90m━━━━━━━━━━━━━━━━━━━━━━━━━━━━━━━━━━━━━━━━\u001b[0m \u001b[32m46.7/46.7 kB\u001b[0m \u001b[31m2.8 MB/s\u001b[0m eta \u001b[36m0:00:00\u001b[0m\n",
            "\u001b[2K     \u001b[90m━━━━━━━━━━━━━━━━━━━━━━━━━━━━━━━━━━━━━━━━\u001b[0m \u001b[32m2.8/2.8 MB\u001b[0m \u001b[31m16.0 MB/s\u001b[0m eta \u001b[36m0:00:00\u001b[0m\n",
            "\u001b[2K     \u001b[90m━━━━━━━━━━━━━━━━━━━━━━━━━━━━━━━━━━━━━━━━\u001b[0m \u001b[32m75.9/75.9 kB\u001b[0m \u001b[31m5.8 MB/s\u001b[0m eta \u001b[36m0:00:00\u001b[0m\n",
            "\u001b[2K     \u001b[90m━━━━━━━━━━━━━━━━━━━━━━━━━━━━━━━━━━━━━━━━\u001b[0m \u001b[32m143.8/143.8 kB\u001b[0m \u001b[31m5.8 MB/s\u001b[0m eta \u001b[36m0:00:00\u001b[0m\n",
            "\u001b[2K     \u001b[90m━━━━━━━━━━━━━━━━━━━━━━━━━━━━━━━━━━━━━━━━\u001b[0m \u001b[32m3.1/3.1 MB\u001b[0m \u001b[31m37.5 MB/s\u001b[0m eta \u001b[36m0:00:00\u001b[0m\n",
            "\u001b[2K     \u001b[90m━━━━━━━━━━━━━━━━━━━━━━━━━━━━━━━━━━━━━━━━\u001b[0m \u001b[32m49.4/49.4 kB\u001b[0m \u001b[31m3.4 MB/s\u001b[0m eta \u001b[36m0:00:00\u001b[0m\n",
            "\u001b[2K     \u001b[90m━━━━━━━━━━━━━━━━━━━━━━━━━━━━━━━━━━━━━━━━\u001b[0m \u001b[32m294.6/294.6 kB\u001b[0m \u001b[31m13.0 MB/s\u001b[0m eta \u001b[36m0:00:00\u001b[0m\n",
            "\u001b[2K     \u001b[90m━━━━━━━━━━━━━━━━━━━━━━━━━━━━━━━━━━━━━━━━\u001b[0m \u001b[32m76.9/76.9 kB\u001b[0m \u001b[31m8.8 MB/s\u001b[0m eta \u001b[36m0:00:00\u001b[0m\n",
            "\u001b[2K     \u001b[90m━━━━━━━━━━━━━━━━━━━━━━━━━━━━━━━━━━━━━━━━\u001b[0m \u001b[32m57.5/57.5 kB\u001b[0m \u001b[31m6.2 MB/s\u001b[0m eta \u001b[36m0:00:00\u001b[0m\n",
            "\u001b[2K     \u001b[90m━━━━━━━━━━━━━━━━━━━━━━━━━━━━━━━━━━━━━━━━\u001b[0m \u001b[32m58.3/58.3 kB\u001b[0m \u001b[31m5.8 MB/s\u001b[0m eta \u001b[36m0:00:00\u001b[0m\n",
            "\u001b[?25h  Building wheel for wikipedia (setup.py) ... \u001b[?25l\u001b[?25hdone\n",
            "\u001b[31mERROR: pip's dependency resolver does not currently take into account all the packages that are installed. This behaviour is the source of the following dependency conflicts.\n",
            "llmx 0.0.15a0 requires openai, which is not installed.\n",
            "llmx 0.0.15a0 requires tiktoken, which is not installed.\n",
            "tensorboard 2.15.1 requires protobuf<4.24,>=3.19.6, but you have protobuf 4.25.1 which is incompatible.\n",
            "tensorflow-metadata 1.14.0 requires protobuf<4.21,>=3.20.3, but you have protobuf 4.25.1 which is incompatible.\u001b[0m\u001b[31m\n",
            "\u001b[0m"
          ]
        }
      ]
    },
    {
      "cell_type": "markdown",
      "source": [
        "# Google Authentication"
      ],
      "metadata": {
        "id": "xB_H_Jc8qP_-"
      }
    },
    {
      "cell_type": "code",
      "source": [
        "from google.colab import auth\n",
        "auth.authenticate_user()"
      ],
      "metadata": {
        "id": "lWNPwg4be2Hs"
      },
      "execution_count": 2,
      "outputs": []
    },
    {
      "cell_type": "code",
      "source": [
        "from getpass import getpass\n",
        "project_id = getpass()"
      ],
      "metadata": {
        "colab": {
          "base_uri": "https://localhost:8080/"
        },
        "id": "M7LEukO7IPwy",
        "outputId": "b9230df0-3d28-43d2-cebf-3c810665f38f"
      },
      "execution_count": 3,
      "outputs": [
        {
          "name": "stdout",
          "output_type": "stream",
          "text": [
            "··········\n"
          ]
        }
      ]
    },
    {
      "cell_type": "code",
      "source": [
        "import vertexai\n",
        "import google.auth\n",
        "from vertexai.preview.language_models import TextGenerationModel\n",
        "\n",
        "creds, _ = google.auth.default(quota_project_id=project_id)\n",
        "vertexai.init(project=project_id, credentials=creds)"
      ],
      "metadata": {
        "id": "hRfK5eCJi2Ab"
      },
      "execution_count": 4,
      "outputs": []
    },
    {
      "cell_type": "markdown",
      "source": [
        "# Load LLM"
      ],
      "metadata": {
        "id": "SDxheTTpqe2A"
      }
    },
    {
      "cell_type": "code",
      "source": [
        "from langchain.llms import VertexAI\n",
        "llm = VertexAI(model_name=\"text-bison\", max_output_tokens=1024, temperature=0.3)"
      ],
      "metadata": {
        "id": "aXtxk35pZrcb"
      },
      "execution_count": 28,
      "outputs": []
    },
    {
      "cell_type": "markdown",
      "source": [
        "## Basic Example"
      ],
      "metadata": {
        "id": "Gcrpb8c1uexM"
      }
    },
    {
      "cell_type": "code",
      "source": [
        "print(llm(\"한국의 수도는?\"))"
      ],
      "metadata": {
        "colab": {
          "base_uri": "https://localhost:8080/"
        },
        "id": "w_d6rNk0qmFo",
        "outputId": "976c859f-e17a-4961-f5be-ef2063063338"
      },
      "execution_count": 6,
      "outputs": [
        {
          "output_type": "stream",
          "name": "stdout",
          "text": [
            " 서울\n"
          ]
        }
      ]
    },
    {
      "cell_type": "code",
      "source": [
        "print(llm(\"이대호는 누구야?\"))"
      ],
      "metadata": {
        "colab": {
          "base_uri": "https://localhost:8080/"
        },
        "id": "xeKIE_LFlDaI",
        "outputId": "d3441225-6cf2-4c02-e70c-c63c4cc9d172"
      },
      "execution_count": 7,
      "outputs": [
        {
          "output_type": "stream",
          "name": "stdout",
          "text": [
            " 이대호(1982년 6월 11일 ~ )는 대한민국의 야구 선수로, KBO 리그 삼성 라이온즈의 포수이다.\n",
            "\n",
            "이대호는 2001년 신인 드래프트에서 1차 지명을 받아 삼성 라이온즈에 입단했다. 2003년에 데뷔한 이대호는 2006년에 첫 골든 글러브를 수상했고, 2009년에는 한국 프로 야구 역사상 최초로 포수로서 홈런왕을 차지했다. 이대호는 2010년에 메이저 리그 시애틀 매리너스로 이적했지만, 2012년에 삼성 라이온즈로 복귀했다.\n",
            "\n",
            "이대호는 2013년에 KBO 리그 MVP를 수상했고, 2014년에는 한국 프로 야구 역사상 최초로 포수로서 타점왕을 차지했다. 이대호는 2015년에 일본 프로 야구 소프트뱅크 호크스로 이적했지만, 2017년에 삼성 라이온즈로 복귀했다.\n",
            "\n",
            "이대호는 2018년에 KBO 리그 홈런왕을 차지했고, 2019년에는 한국 프로 야구 역사상 최초로 포수로서 타율왕을 차지했다. 이대호는 2020년에 삼성 라이온즈와 재계약을 맺었고, 현재까지도 삼성 라이온즈에서 활약하고 있다.\n",
            "\n",
            "이대호는 한국 프로 야구 역사상 최고의 포수 중 한 명으로 평가받고 있다. 이대호는 강한 타격력과 수비력을 겸비하고 있으며, 리더십도 뛰어나다. 이대호는 한국 프로 야구에서 많은 기록을 수립했고, 한국 프로 야구의 발전에 크게 기여했다.\n"
          ]
        }
      ]
    },
    {
      "cell_type": "code",
      "source": [
        "print(llm(\"손아섭의 2014년 홈런 개수는?\"))"
      ],
      "metadata": {
        "colab": {
          "base_uri": "https://localhost:8080/"
        },
        "id": "X53vA5o1sA-F",
        "outputId": "0bd38360-e563-4298-83b7-7cab018282aa"
      },
      "execution_count": 8,
      "outputs": [
        {
          "output_type": "stream",
          "name": "stdout",
          "text": [
            " 손아섭은 2014년에 은퇴했기 때문에 2014년에 홈런을 기록하지 않았습니다.\n"
          ]
        }
      ]
    },
    {
      "cell_type": "markdown",
      "source": [
        "# Load CSV"
      ],
      "metadata": {
        "id": "TxqmFPSZlRz9"
      }
    },
    {
      "cell_type": "code",
      "source": [
        "import pandas as pd\n",
        "\n",
        "df = pd.read_csv(\"./hitter_record_1982_to_2023_cleaned(ver.2).csv\")"
      ],
      "metadata": {
        "id": "7V7GNwz_lRZC"
      },
      "execution_count": 9,
      "outputs": []
    },
    {
      "cell_type": "code",
      "source": [
        "from langchain.schema import Document\n",
        "\n",
        "documents = []\n",
        "for name in df['이름'].unique():\n",
        "    document = f\"{name} 선수에 관한 문서입니다. \\n\"\n",
        "    for idx, row in df[df['이름'] == name].iterrows():\n",
        "        document += str(row.to_dict())[1:-1]\n",
        "        document += '\\n'\n",
        "\n",
        "    documents.append(Document(page_content=document))"
      ],
      "metadata": {
        "id": "Yj-_CyA-lUwl"
      },
      "execution_count": 10,
      "outputs": []
    },
    {
      "cell_type": "markdown",
      "source": [
        "# Cohere API Authentication"
      ],
      "metadata": {
        "id": "-miwzEb7rMhG"
      }
    },
    {
      "cell_type": "code",
      "source": [
        "from getpass import getpass\n",
        "cohere_api_key = getpass()"
      ],
      "metadata": {
        "colab": {
          "base_uri": "https://localhost:8080/"
        },
        "id": "1FLjlZwblbyp",
        "outputId": "2e172c58-5223-4eee-8df8-2ef8267ff70f"
      },
      "execution_count": 11,
      "outputs": [
        {
          "name": "stdout",
          "output_type": "stream",
          "text": [
            "··········\n"
          ]
        }
      ]
    },
    {
      "cell_type": "markdown",
      "source": [
        "# Save DB"
      ],
      "metadata": {
        "id": "4RD5iMstrkYE"
      }
    },
    {
      "cell_type": "code",
      "source": [
        "from langchain.embeddings import CohereEmbeddings\n",
        "from langchain.vectorstores import Qdrant\n",
        "\n",
        "embeddings = CohereEmbeddings(model=\"embed-multilingual-light-v3.0\", cohere_api_key=cohere_api_key)\n",
        "\n",
        "db = Qdrant.from_documents(\n",
        "    documents,\n",
        "    embeddings,\n",
        "    path=\"/tmp/local_qdrant\",\n",
        "    collection_name=\"my_documents\",\n",
        "    )\n"
      ],
      "metadata": {
        "id": "hkUGhlRalXdB"
      },
      "execution_count": 12,
      "outputs": []
    },
    {
      "cell_type": "markdown",
      "source": [
        "# Practice"
      ],
      "metadata": {
        "id": "8a5yHRTqtJCL"
      }
    },
    {
      "cell_type": "markdown",
      "source": [
        "## 1. Simple LCEL Practice"
      ],
      "metadata": {
        "id": "Qol1tAEjrvtk"
      }
    },
    {
      "cell_type": "code",
      "source": [
        "from langchain.prompts import PromptTemplate\n",
        "from langchain_core.output_parsers import StrOutputParser\n",
        "from langchain_core.runnables import RunnablePassthrough\n",
        "\n",
        "# 템플릿\n",
        "template = '''아래 글만을 참고해서 질문에 대한 답을 해줘.\n",
        "            {context}\n",
        "\n",
        "            질문: {question}\n",
        "\n",
        "            답변:\n",
        "'''\n",
        "retriever = db.as_retriever(search_type=\"mmr\", search_kwargs={\"k\": 1})\n",
        "\n",
        "# 프롬프트 템플릿 생성\n",
        "prompt = PromptTemplate(template=template, input_variables=[\"question\", \"context\"])\n",
        "\n",
        "# LLM Chain 객체 생성\n",
        "hitter_detail_chain = (\n",
        "    {\"context\": retriever, \"question\": RunnablePassthrough()}\n",
        "    | prompt\n",
        "    | llm\n",
        "    | StrOutputParser()\n",
        ")"
      ],
      "metadata": {
        "id": "WG4GKM_3mLnK"
      },
      "execution_count": 29,
      "outputs": []
    },
    {
      "cell_type": "markdown",
      "source": [
        "### Example"
      ],
      "metadata": {
        "id": "nM_Y8abMZU5C"
      }
    },
    {
      "cell_type": "code",
      "source": [
        "question = \"손아섭의 2014년 홈런 개수는?\"\n",
        "hitter_detail_chain.invoke(question)"
      ],
      "metadata": {
        "colab": {
          "base_uri": "https://localhost:8080/",
          "height": 36
        },
        "id": "J1LAq74wLdW8",
        "outputId": "30bd794d-0f56-4d15-ab83-d2c9ca7d98e4"
      },
      "execution_count": 14,
      "outputs": [
        {
          "output_type": "execute_result",
          "data": {
            "text/plain": [
              "' 손아섭의 2014년 홈런 개수는 18개입니다.'"
            ],
            "application/vnd.google.colaboratory.intrinsic+json": {
              "type": "string"
            }
          },
          "metadata": {},
          "execution_count": 14
        }
      ]
    },
    {
      "cell_type": "code",
      "source": [
        "question = \"손아섭의 2010년 기록을 알려줘\"\n",
        "hitter_detail_chain.invoke(question)"
      ],
      "metadata": {
        "colab": {
          "base_uri": "https://localhost:8080/",
          "height": 36
        },
        "id": "1NZGYGXKsKdP",
        "outputId": "9b297dc4-3092-48e2-9ee7-439e51f9016f"
      },
      "execution_count": 15,
      "outputs": [
        {
          "output_type": "execute_result",
          "data": {
            "text/plain": [
              "' 손아섭의 2010년 기록은 다음과 같습니다.\\n\\n- 소속팀: 롯데 자이언츠\\n- 포지션: LF\\n- 타율: 0.306\\n- 홈런: 11개\\n- 타점: 47개\\n- 도루: 6개\\n- WAR: 2.85'"
            ],
            "application/vnd.google.colaboratory.intrinsic+json": {
              "type": "string"
            }
          },
          "metadata": {},
          "execution_count": 15
        }
      ]
    },
    {
      "cell_type": "code",
      "source": [
        "question = \"호세가 출루율 0.5를 넘었던 시즌은?\"\n",
        "hitter_detail_chain.invoke(question)"
      ],
      "metadata": {
        "colab": {
          "base_uri": "https://localhost:8080/",
          "height": 36
        },
        "id": "k87Anf-odvGl",
        "outputId": "4d958d32-bcc8-4a9e-aeea-bb602e8206da"
      },
      "execution_count": 54,
      "outputs": [
        {
          "output_type": "execute_result",
          "data": {
            "text/plain": [
              "' 호세가 출루율 0.5를 넘었던 시즌은 2001년입니다.'"
            ],
            "application/vnd.google.colaboratory.intrinsic+json": {
              "type": "string"
            }
          },
          "metadata": {},
          "execution_count": 54
        }
      ]
    },
    {
      "cell_type": "code",
      "source": [
        "question = \"아두치가 20-20을 달성한 시즌은?\"\n",
        "hitter_detail_chain.invoke(question)"
      ],
      "metadata": {
        "colab": {
          "base_uri": "https://localhost:8080/",
          "height": 36
        },
        "id": "F5d04x9mdxaL",
        "outputId": "f024caed-a9fc-44b9-b59b-961f3ad12ff6"
      },
      "execution_count": 55,
      "outputs": [
        {
          "output_type": "execute_result",
          "data": {
            "text/plain": [
              "' 아두치가 20-20을 달성한 시즌은 2015년입니다.'"
            ],
            "application/vnd.google.colaboratory.intrinsic+json": {
              "type": "string"
            }
          },
          "metadata": {},
          "execution_count": 55
        }
      ]
    },
    {
      "cell_type": "code",
      "source": [
        "question = \"테임즈가 40-40을 달성한 시즌은? 기록과 함께 알려줘. 그리고 40-40의 의미는 뭐야?\"\n",
        "hitter_detail_chain.invoke(question)"
      ],
      "metadata": {
        "colab": {
          "base_uri": "https://localhost:8080/",
          "height": 72
        },
        "id": "OMtZYySyd9Of",
        "outputId": "12838552-6453-480d-9abc-fc426f52a72a"
      },
      "execution_count": 56,
      "outputs": [
        {
          "output_type": "execute_result",
          "data": {
            "text/plain": [
              "' 테임즈가 40-40을 달성한 시즌은 2015 시즌이다. 이 시즌에 테임즈는 47개의 홈런과 40개의 도루를 기록했다.\\n\\n40-40은 한 시즌에 40개 이상의 홈런과 40개 이상의 도루를 기록하는 것을 말한다. 이는 매우 어려운 기록으로, 메이저 리그 역사상 40-40을 달성한 선수는 4명 뿐이다. 테임즈는 KBO 역사상 최초로 40-40을 달성한 선수이다.'"
            ],
            "application/vnd.google.colaboratory.intrinsic+json": {
              "type": "string"
            }
          },
          "metadata": {},
          "execution_count": 56
        }
      ]
    },
    {
      "cell_type": "code",
      "source": [
        "question = \"이승엽이 홈런을 가장 많이 친 시즌은?\"\n",
        "hitter_detail_chain.invoke(question)"
      ],
      "metadata": {
        "colab": {
          "base_uri": "https://localhost:8080/",
          "height": 36
        },
        "id": "MwCTe1W6dtUg",
        "outputId": "f84e8cfa-2e62-4196-9541-b3378243c983"
      },
      "execution_count": 53,
      "outputs": [
        {
          "output_type": "execute_result",
          "data": {
            "text/plain": [
              "' 이승엽이 홈런을 가장 많이 친 시즌은 2003년으로, 56개의 홈런을 기록했습니다.'"
            ],
            "application/vnd.google.colaboratory.intrinsic+json": {
              "type": "string"
            }
          },
          "metadata": {},
          "execution_count": 53
        }
      ]
    },
    {
      "cell_type": "code",
      "source": [
        "question = \"문규현은 원클럽맨이니? 그 이유는?\"\n",
        "hitter_detail_chain.invoke(question)"
      ],
      "metadata": {
        "colab": {
          "base_uri": "https://localhost:8080/",
          "height": 36
        },
        "id": "wFA_No5tsYZf",
        "outputId": "fe205340-2a98-415f-ce23-e1114508a2e6"
      },
      "execution_count": 16,
      "outputs": [
        {
          "output_type": "execute_result",
          "data": {
            "text/plain": [
              "' 문규현은 원클럽맨입니다. 그는 2002년부터 2019년까지 롯데 자이언츠에서만 뛰었습니다.'"
            ],
            "application/vnd.google.colaboratory.intrinsic+json": {
              "type": "string"
            }
          },
          "metadata": {},
          "execution_count": 16
        }
      ]
    },
    {
      "cell_type": "code",
      "source": [
        "question = \"손아섭은 KBO에서 원클럽맨이니? 그 이유는?\"\n",
        "hitter_detail_chain.invoke(question)"
      ],
      "metadata": {
        "colab": {
          "base_uri": "https://localhost:8080/",
          "height": 36
        },
        "id": "GHDtiksZsmso",
        "outputId": "eb09e45c-6bd0-4f32-b8b7-f3126decb79e"
      },
      "execution_count": 17,
      "outputs": [
        {
          "output_type": "execute_result",
          "data": {
            "text/plain": [
              "' 손아섭은 KBO에서 원클럽맨이 아닙니다. 그는 2022년에 NC 다이노스로 이적했습니다.'"
            ],
            "application/vnd.google.colaboratory.intrinsic+json": {
              "type": "string"
            }
          },
          "metadata": {},
          "execution_count": 17
        }
      ]
    },
    {
      "cell_type": "code",
      "source": [
        "question = \"안치홍이 뛰었던 팀들을 얘기해줄래?\"\n",
        "hitter_detail_chain.invoke(question)"
      ],
      "metadata": {
        "colab": {
          "base_uri": "https://localhost:8080/",
          "height": 36
        },
        "id": "CfK3WJwo2Z1Q",
        "outputId": "67075a18-173c-41dd-cd76-dd0d729428f3"
      },
      "execution_count": 18,
      "outputs": [
        {
          "output_type": "execute_result",
          "data": {
            "text/plain": [
              "' 안치홍이 뛰었던 팀은 다음과 같습니다.\\n\\n- KIA 타이거즈\\n- 롯데 자이언츠'"
            ],
            "application/vnd.google.colaboratory.intrinsic+json": {
              "type": "string"
            }
          },
          "metadata": {},
          "execution_count": 18
        }
      ]
    },
    {
      "cell_type": "code",
      "source": [
        "question = \"안치홍의 주 포지션은 어디야?\"\n",
        "hitter_detail_chain.invoke(question)"
      ],
      "metadata": {
        "colab": {
          "base_uri": "https://localhost:8080/",
          "height": 36
        },
        "id": "afMMts9c2lOA",
        "outputId": "9406f077-043f-4e3f-e2a1-8e887ad31132"
      },
      "execution_count": 19,
      "outputs": [
        {
          "output_type": "execute_result",
          "data": {
            "text/plain": [
              "' 안치홍의 주 포지션은 2루수입니다.'"
            ],
            "application/vnd.google.colaboratory.intrinsic+json": {
              "type": "string"
            }
          },
          "metadata": {},
          "execution_count": 19
        }
      ]
    },
    {
      "cell_type": "code",
      "source": [
        "question = \"이대호에 대해 알려줄래?\"\n",
        "hitter_detail_chain.invoke(question)"
      ],
      "metadata": {
        "colab": {
          "base_uri": "https://localhost:8080/",
          "height": 73
        },
        "id": "Bcy6GQeSENhU",
        "outputId": "3a139833-a677-4cb6-8bf5-d0ff82a8a8c2"
      },
      "execution_count": 20,
      "outputs": [
        {
          "output_type": "execute_result",
          "data": {
            "text/plain": [
              "' 이대호는 1982년 6월 22일생으로, 롯데 자이언츠에서 뛰는 야구 선수입니다. 2001년에 프로에 데뷔하여 2022년까지 롯데 자이언츠에서만 뛰고 있습니다. 주로 1루수와 지명타자로 활약했으며, 2010년에는 홈런왕과 타점왕을 차지하기도 했습니다. 이대호는 통산 2,500안타를 달성한 역대 11번째 선수이며, 2017년에는 월드 베이스볼 클래식에 국가대표로 출전하기도 했습니다.'"
            ],
            "application/vnd.google.colaboratory.intrinsic+json": {
              "type": "string"
            }
          },
          "metadata": {},
          "execution_count": 20
        }
      ]
    },
    {
      "cell_type": "code",
      "source": [
        "question = \"이승엽은 누구야?\"\n",
        "hitter_detail_chain.invoke(question)"
      ],
      "metadata": {
        "colab": {
          "base_uri": "https://localhost:8080/",
          "height": 73
        },
        "id": "MX8GCuND1q0v",
        "outputId": "6273985d-841e-4a0e-d2f7-5ff323898e82"
      },
      "execution_count": 21,
      "outputs": [
        {
          "output_type": "execute_result",
          "data": {
            "text/plain": [
              "' 질문: 이승엽은 누구야?\\n\\n답변:\\n이승엽은 전 KBO 리그 삼성 라이온즈의 야구 선수입니다. 그는 1995년부터 2017년까지 프로 야구 선수로 활약했습니다. 그는 1998년과 2003년에 홈런왕을 차지했고, 2003년에는 타점왕을 차지했습니다. 그는 2006년에 두산 베어스로 이적했지만, 2012년에 삼성 라이온즈로 복귀했습니다. 그는 2017년에 은퇴했습니다.'"
            ],
            "application/vnd.google.colaboratory.intrinsic+json": {
              "type": "string"
            }
          },
          "metadata": {},
          "execution_count": 21
        }
      ]
    },
    {
      "cell_type": "markdown",
      "source": [
        "## 2. Simple Agent Practice"
      ],
      "metadata": {
        "id": "bXtaT10VtHTu"
      }
    },
    {
      "cell_type": "code",
      "source": [
        "from langchain.retrievers import WikipediaRetriever\n",
        "\n",
        "retriever = WikipediaRetriever(lang='ko', search_type=\"mmr\")\n",
        "\n",
        "# LLM Chain 객체 생성\n",
        "wiki_chain = (\n",
        "    {\"context\": retriever, \"question\": RunnablePassthrough()}\n",
        "    | prompt\n",
        "    | VertexAI(model_name=\"text-bison\", max_output_tokens=1024, temperature=0.9)\n",
        "    | StrOutputParser()\n",
        ")"
      ],
      "metadata": {
        "id": "6SVPd25-Sihs"
      },
      "execution_count": 31,
      "outputs": []
    },
    {
      "cell_type": "code",
      "source": [
        "from langchain.agents import Tool\n",
        "\n",
        "tools = [\n",
        "    Tool(\n",
        "        name=\"타자 시즌별 기록\",\n",
        "        func=hitter_detail_chain.invoke,\n",
        "        description=\"해당 타자의 시즌별 기록을 알아볼 때 유용합니다.\",\n",
        "    ),\n",
        "\n",
        "    Tool.from_function(\n",
        "        name=\"위키피디아\",\n",
        "        func= wiki_chain.invoke,\n",
        "        description=\"해당 타자의 전반적인 정보를 알고 싶을 때 유용합니다.\"\n",
        "    )\n",
        "]"
      ],
      "metadata": {
        "id": "7EhKqMCz5IMH"
      },
      "execution_count": 32,
      "outputs": []
    },
    {
      "cell_type": "code",
      "source": [
        "from langchain.agents import AgentType, initialize_agent\n",
        "\n",
        "agent = initialize_agent(\n",
        "    tools, llm, agent=AgentType.ZERO_SHOT_REACT_DESCRIPTION, verbose=True\n",
        ")"
      ],
      "metadata": {
        "id": "S3mzKk2KTX6D"
      },
      "execution_count": 33,
      "outputs": []
    },
    {
      "cell_type": "code",
      "source": [
        "agent.invoke(\n",
        "    {\n",
        "        \"input\": \"이대호가 누구야?\"\n",
        "    }\n",
        ")"
      ],
      "metadata": {
        "colab": {
          "base_uri": "https://localhost:8080/"
        },
        "id": "yN3h1IexTfxU",
        "outputId": "752bfc54-88f7-475c-86fc-79a504a2cd0a"
      },
      "execution_count": 34,
      "outputs": [
        {
          "output_type": "stream",
          "name": "stdout",
          "text": [
            "\n",
            "\n",
            "\u001b[1m> Entering new AgentExecutor chain...\u001b[0m\n",
            "\u001b[32;1m\u001b[1;3m 이대호에 대한 정보를 알고 싶으니 위키피디아에서 찾아보자.\n",
            "Action: 위키피디아\n",
            "Action Input: 이대호\u001b[0m\n",
            "Observation: \u001b[33;1m\u001b[1;3m 이대호(李大浩, 1982년 6월 21일~)는 대한민국의 야구인이다. 현역 시절 KBO 리그의 롯데 자이언츠, 일본 프로 야구의 오릭스 버펄로스, 후쿠오카 소프트뱅크 호크스, 메이저 리그 베이스볼의 시애틀 매리너스에서 내야수, 포수, 투수, 지명 타자로 활동했다.\u001b[0m\n",
            "Thought:\u001b[32;1m\u001b[1;3m 이대호는 1982년 6월 21일에 태어난 대한민국의 야구 선수입니다. 그는 KBO 리그의 롯데 자이언츠, 일본 프로 야구의 오릭스 버펄로스, 후쿠오카 소프트뱅크 호크스, 메이저 리그 베이스볼의 시애틀 매리너스에서 내야수, 포수, 투수, 지명 타자로 활동했습니다.\n",
            "Final Answer: 이대호는 1982년 6월 21일에 태어난 대한민국의 야구 선수입니다. 그는 KBO 리그의 롯데 자이언츠, 일본 프로 야구의 오릭스 버펄로스, 후쿠오카 소프트뱅크 호크스, 메이저 리그 베이스볼의 시애틀 매리너스에서 내야수, 포수, 투수, 지명 타자로 활동했습니다.\u001b[0m\n",
            "\n",
            "\u001b[1m> Finished chain.\u001b[0m\n"
          ]
        },
        {
          "output_type": "execute_result",
          "data": {
            "text/plain": [
              "{'input': '이대호가 누구야?',\n",
              " 'output': '이대호는 1982년 6월 21일에 태어난 대한민국의 야구 선수입니다. 그는 KBO 리그의 롯데 자이언츠, 일본 프로 야구의 오릭스 버펄로스, 후쿠오카 소프트뱅크 호크스, 메이저 리그 베이스볼의 시애틀 매리너스에서 내야수, 포수, 투수, 지명 타자로 활동했습니다.'}"
            ]
          },
          "metadata": {},
          "execution_count": 34
        }
      ]
    },
    {
      "cell_type": "code",
      "source": [
        "agent.invoke(\n",
        "    {\n",
        "        \"input\": \"이승엽은 2003시즌 홈런을 몇개 기록했지?\"\n",
        "    }\n",
        ")"
      ],
      "metadata": {
        "colab": {
          "base_uri": "https://localhost:8080/"
        },
        "id": "rHEi_yCWTrch",
        "outputId": "26ed7380-878f-4b7b-ec73-190d656cc165"
      },
      "execution_count": 35,
      "outputs": [
        {
          "output_type": "stream",
          "name": "stdout",
          "text": [
            "\n",
            "\n",
            "\u001b[1m> Entering new AgentExecutor chain...\u001b[0m\n",
            "\u001b[32;1m\u001b[1;3m 이승엽의 2003시즌 홈런 기록을 알아보고 싶다.\n",
            "Action: 타자 시즌별 기록\n",
            "Action Input: 이승엽 2003\u001b[0m\n",
            "Observation: \u001b[36;1m\u001b[1;3m - 소속팀: 삼성 라이온즈\n",
            "- 타율: 0.301\n",
            "- 홈런: 56\n",
            "- 타점: 144\n",
            "- WAR: 8.39\u001b[0m\n",
            "Thought:\u001b[32;1m\u001b[1;3m 이승엽의 2003시즌 홈런 기록은 56개다.\n",
            "Final Answer: 56\u001b[0m\n",
            "\n",
            "\u001b[1m> Finished chain.\u001b[0m\n"
          ]
        },
        {
          "output_type": "execute_result",
          "data": {
            "text/plain": [
              "{'input': '이승엽은 2003시즌 홈런을 몇개 기록했지?', 'output': '56'}"
            ]
          },
          "metadata": {},
          "execution_count": 35
        }
      ]
    },
    {
      "cell_type": "code",
      "source": [
        "question = \"이대형의 2010시즌 도루개수에 대해 알려줄래?\"\n",
        "\n",
        "agent.invoke(\n",
        "    {\n",
        "        \"input\": question\n",
        "    }\n",
        ")"
      ],
      "metadata": {
        "colab": {
          "base_uri": "https://localhost:8080/"
        },
        "id": "qgo0Bvp4aVQM",
        "outputId": "3193795b-8865-4ac7-8e51-b10dcd0f43c7"
      },
      "execution_count": 39,
      "outputs": [
        {
          "output_type": "stream",
          "name": "stdout",
          "text": [
            "\n",
            "\n",
            "\u001b[1m> Entering new AgentExecutor chain...\u001b[0m\n",
            "\u001b[32;1m\u001b[1;3m 이대형의 2010시즌에 대한 정보를 알고 싶은 것 같다.\n",
            "Action: 타자 시즌별 기록\n",
            "Action Input: 이대형 2010\u001b[0m\n",
            "Observation: \u001b[36;1m\u001b[1;3m 이대형 선수의 2010년도 성적은 다음과 같습니다.\n",
            "\n",
            "소속팀: LG 트윈스\n",
            "포지션: CF\n",
            "WAR*: 1.91\n",
            "G: 130\n",
            "타석: 568\n",
            "타수: 494\n",
            "득점: 73\n",
            "안타: 129\n",
            "2타: 14\n",
            "3타: 2\n",
            "홈런: 1\n",
            "루타: 150\n",
            "타점: 43\n",
            "도루: 66\n",
            "도실: 21\n",
            "볼넷: 58\n",
            "사구: 2\n",
            "고4: 0\n",
            "삼진: 76\n",
            "병살: 3\n",
            "희타: 13\n",
            "희비: 1\n",
            "타율: 0.261\n",
            "출루: 0.341\n",
            "장타: 0.304\n",
            "OPS: 0.644\n",
            "wOBA: 0.305\n",
            "wRC+: 75.0\n",
            "WPA: nan\u001b[0m\n",
            "Thought:\u001b[32;1m\u001b[1;3m 이대형 선수의 2010년도 도루 개수는 66개 입니다.\n",
            "Final Answer: 이대형 선수의 2010년도 도루 개수는 66개 입니다.\u001b[0m\n",
            "\n",
            "\u001b[1m> Finished chain.\u001b[0m\n"
          ]
        },
        {
          "output_type": "execute_result",
          "data": {
            "text/plain": [
              "{'input': '이대형의 2010시즌 도루개수에 대해 알려줄래?',\n",
              " 'output': '이대형 선수의 2010년도 도루 개수는 66개 입니다.'}"
            ]
          },
          "metadata": {},
          "execution_count": 39
        }
      ]
    }
  ]
}